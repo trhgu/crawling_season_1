{
 "cells": [
  {
   "cell_type": "code",
   "execution_count": 2,
   "metadata": {},
   "outputs": [],
   "source": [
    "# download kboresults.py file in the direction where your code write and import module\n",
    "import kboresults"
   ]
  },
  {
   "cell_type": "code",
   "execution_count": 3,
   "metadata": {},
   "outputs": [],
   "source": [
    "# set parameter \n",
    "year = [\"2017\", \"2018\", \"2019\"]\n",
    "month = [\"03\",\"04\",\"05\", \"06\", \"07\", \"08\", \"09\", \"10\"]\n",
    "team = [\"SK\", \"HH\", \"WO\", \"HT\", \"SS\", \"LT\", \"OB\", \"LG\",\"KT\",\"NC\"]"
   ]
  },
  {
   "cell_type": "code",
   "execution_count": 6,
   "metadata": {},
   "outputs": [],
   "source": [
    "game = kboresults.kboresults(year, month, team)"
   ]
  },
  {
   "cell_type": "code",
   "execution_count": 7,
   "metadata": {},
   "outputs": [
    {
     "data": {
      "text/html": [
       "<div>\n",
       "<style scoped>\n",
       "    .dataframe tbody tr th:only-of-type {\n",
       "        vertical-align: middle;\n",
       "    }\n",
       "\n",
       "    .dataframe tbody tr th {\n",
       "        vertical-align: top;\n",
       "    }\n",
       "\n",
       "    .dataframe thead th {\n",
       "        text-align: right;\n",
       "    }\n",
       "</style>\n",
       "<table border=\"1\" class=\"dataframe\">\n",
       "  <thead>\n",
       "    <tr style=\"text-align: right;\">\n",
       "      <th></th>\n",
       "      <th>dates</th>\n",
       "      <th>parks</th>\n",
       "      <th>away</th>\n",
       "      <th>home</th>\n",
       "      <th>homewin</th>\n",
       "      <th>etcs</th>\n",
       "      <th>times</th>\n",
       "    </tr>\n",
       "  </thead>\n",
       "  <tbody>\n",
       "    <tr>\n",
       "      <td>0</td>\n",
       "      <td>2017/03/31</td>\n",
       "      <td>문학</td>\n",
       "      <td>KT</td>\n",
       "      <td>SK</td>\n",
       "      <td>lose</td>\n",
       "      <td>-</td>\n",
       "      <td>19:00</td>\n",
       "    </tr>\n",
       "    <tr>\n",
       "      <td>1</td>\n",
       "      <td>2017/03/31</td>\n",
       "      <td>잠실</td>\n",
       "      <td>한화</td>\n",
       "      <td>두산</td>\n",
       "      <td>win</td>\n",
       "      <td>-</td>\n",
       "      <td>19:00</td>\n",
       "    </tr>\n",
       "    <tr>\n",
       "      <td>2</td>\n",
       "      <td>2017/03/31</td>\n",
       "      <td>고척</td>\n",
       "      <td>LG</td>\n",
       "      <td>넥센</td>\n",
       "      <td>lose</td>\n",
       "      <td>-</td>\n",
       "      <td>19:00</td>\n",
       "    </tr>\n",
       "    <tr>\n",
       "      <td>3</td>\n",
       "      <td>2017/03/31</td>\n",
       "      <td>대구</td>\n",
       "      <td>KIA</td>\n",
       "      <td>삼성</td>\n",
       "      <td>lose</td>\n",
       "      <td>-</td>\n",
       "      <td>19:00</td>\n",
       "    </tr>\n",
       "    <tr>\n",
       "      <td>4</td>\n",
       "      <td>2017/03/31</td>\n",
       "      <td>마산</td>\n",
       "      <td>롯데</td>\n",
       "      <td>NC</td>\n",
       "      <td>win</td>\n",
       "      <td>-</td>\n",
       "      <td>19:00</td>\n",
       "    </tr>\n",
       "  </tbody>\n",
       "</table>\n",
       "</div>"
      ],
      "text/plain": [
       "        dates parks away home homewin etcs    times\n",
       "0  2017/03/31    문학   KT   SK    lose    -   19:00 \n",
       "1  2017/03/31    잠실   한화   두산     win    -   19:00 \n",
       "2  2017/03/31    고척   LG   넥센    lose    -   19:00 \n",
       "3  2017/03/31    대구  KIA   삼성    lose    -   19:00 \n",
       "4  2017/03/31    마산   롯데   NC     win    -   19:00 "
      ]
     },
     "execution_count": 7,
     "metadata": {},
     "output_type": "execute_result"
    }
   ],
   "source": [
    "game.head()"
   ]
  }
 ],
 "metadata": {
  "kernelspec": {
   "display_name": "Python 3",
   "language": "python",
   "name": "python3"
  },
  "language_info": {
   "codemirror_mode": {
    "name": "ipython",
    "version": 3
   },
   "file_extension": ".py",
   "mimetype": "text/x-python",
   "name": "python",
   "nbconvert_exporter": "python",
   "pygments_lexer": "ipython3",
   "version": "3.7.4"
  }
 },
 "nbformat": 4,
 "nbformat_minor": 4
}
